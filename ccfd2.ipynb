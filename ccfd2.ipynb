{
 "cells": [
  {
   "cell_type": "code",
   "execution_count": 1,
   "id": "c8de89c7",
   "metadata": {},
   "outputs": [],
   "source": [
    "# import the necessary packages\n",
    "import numpy as np\n",
    "import pandas as pd\n",
    "import matplotlib.pyplot as plt\n",
    "import seaborn as sns\n",
    "from matplotlib import gridspec\n",
    "\n",
    "from imblearn.over_sampling import SMOTE\n",
    "from imblearn.over_sampling import BorderlineSMOTE\n",
    "from imblearn.pipeline import Pipeline \n",
    "\n",
    "from sklearn.linear_model import LinearRegression, LogisticRegression\n",
    "from sklearn.tree import DecisionTreeClassifier\n",
    "from sklearn.svm import SVC\n",
    "from sklearn.ensemble import RandomForestClassifier, VotingClassifier\n",
    "from sklearn.neural_network import MLPClassifier\n",
    "from sklearn.model_selection import train_test_split, GridSearchCV\n",
    "from sklearn.metrics import r2_score, classification_report, confusion_matrix, accuracy_score, precision_score, recall_score, f1_score,matthews_corrcoef, roc_auc_score, roc_curve, precision_recall_curve, average_precision_score\n",
    "from sklearn.metrics import homogeneity_score, silhouette_score\n",
    "from sklearn.preprocessing import StandardScaler\n",
    "\n",
    "from itertools import product"
   ]
  },
  {
   "cell_type": "code",
   "execution_count": 2,
   "id": "c3584946",
   "metadata": {},
   "outputs": [],
   "source": [
    "pd.set_option('display.max_columns', 100) # replace n with the number of columns you want to see completely\n",
    "pd.set_option('display.max_rows', 100) # replace n with the number of rows you want to see completely"
   ]
  },
  {
   "cell_type": "code",
   "execution_count": 3,
   "id": "0b565a87",
   "metadata": {},
   "outputs": [],
   "source": [
    "# Load the dataset from the csv file using pandas\n",
    "data = pd.read_csv('creditcard.csv')"
   ]
  },
  {
   "cell_type": "code",
   "execution_count": 4,
   "id": "555d4167",
   "metadata": {},
   "outputs": [],
   "source": [
    "# Define the scaler and apply to the data\n",
    "scaler = StandardScaler()\n",
    "temp = data['Amount']\n",
    "data['Amount'] = scaler.fit_transform(temp.values.reshape(-1, 1))"
   ]
  },
  {
   "cell_type": "code",
   "execution_count": 5,
   "id": "914eebcc",
   "metadata": {},
   "outputs": [
    {
     "name": "stdout",
     "output_type": "stream",
     "text": [
      "X shape: (284807, 29)\n",
      "Y shape: (284807,)\n"
     ]
    }
   ],
   "source": [
    "# Dividing the X(features) and the Y(target) from the dataset\n",
    "X = data.drop([\"Class\", \"Time\"], axis=1).values\n",
    "Y = data[\"Class\"].values\n",
    "print(f'X shape: {X.shape}\\nY shape: {Y.shape}')"
   ]
  },
  {
   "cell_type": "code",
   "execution_count": 6,
   "id": "4de373ad",
   "metadata": {},
   "outputs": [],
   "source": [
    "# Create the training and testing sets\n",
    "X_train, X_test, Y_train, Y_test = train_test_split(X, Y, test_size=0.3, random_state=0)"
   ]
  },
  {
   "cell_type": "code",
   "execution_count": 7,
   "id": "d5cec0c6",
   "metadata": {},
   "outputs": [],
   "source": [
    "# Define the resampling method\n",
    "resampling = SMOTE()\n",
    "# Create the resampled feature set\n",
    "X_resampled_train, Y_resampled_train = resampling.fit_sample(X_train, Y_train)"
   ]
  },
  {
   "cell_type": "code",
   "execution_count": 8,
   "id": "e284011f",
   "metadata": {},
   "outputs": [],
   "source": [
    "def plot_confusion_matrix(cm, classes=['Not Fraud', 'Fraud'],\n",
    "                          normalize=False,\n",
    "                          title='Fraud Confusion matrix',\n",
    "                          cmap=plt.cm.Blues):\n",
    "    \"\"\"\n",
    "    This function prints and plots the confusion matrix.\n",
    "    Normalization can be applied by setting `normalize=True`.\n",
    "    From:\n",
    "        http://scikit-learn.org/stable/auto_examples/model_selection/plot_confusion_matrix.html#sphx-glr-auto-\n",
    "        examples-model-selection-plot-confusion-matrix-py\n",
    "    \"\"\"\n",
    "    if normalize:\n",
    "        cm = cm.astype('float') / cm.sum(axis=1)[:, np.newaxis]\n",
    "        print(\"Normalized confusion matrix\")\n",
    "    else:\n",
    "        print('Confusion matrix, without normalization')\n",
    "\n",
    "    # print(cm)\n",
    "\n",
    "    plt.imshow(cm, interpolation='nearest', cmap=cmap)\n",
    "    plt.title(title)\n",
    "    plt.colorbar()\n",
    "    tick_marks = np.arange(len(classes))\n",
    "    plt.xticks(tick_marks, classes, rotation=45)\n",
    "    plt.yticks(tick_marks, classes)\n",
    "\n",
    "    fmt = '.2f' if normalize else 'd'\n",
    "    thresh = cm.max() / 2.\n",
    "    for i, j in product(range(cm.shape[0]), range(cm.shape[1])):\n",
    "        plt.text(j, i, format(cm[i, j], fmt),\n",
    "                 horizontalalignment=\"center\",\n",
    "                 color=\"white\" if cm[i, j] > thresh else \"black\")\n",
    "\n",
    "    plt.tight_layout()\n",
    "    plt.ylabel('True label')\n",
    "    plt.xlabel('Predicted label')\n",
    "    plt.show()"
   ]
  },
  {
   "cell_type": "code",
   "execution_count": 9,
   "id": "e8fab712",
   "metadata": {},
   "outputs": [],
   "source": [
    "def evaluate(model_name, actual, prediction):\n",
    "    print(\"the Model used is {}\".format(model_name))\n",
    "    acc = accuracy_score(actual, prediction)\n",
    "    print(\"The accuracy is {}\".format(acc))\n",
    "    prec = precision_score(actual, prediction)\n",
    "    print(\"The precision is {}\".format(prec))\n",
    "    rec = recall_score(actual, prediction)\n",
    "    print(\"The recall is {}\".format(rec))\n",
    "    f1 = f1_score(actual, prediction)\n",
    "    print(\"The F1-Score is {}\".format(f1))\n",
    "    mcc = matthews_corrcoef(actual, prediction)\n",
    "    print(\"The Matthews correlation coefficient is {}\".format(mcc))\n",
    "    # Print the classifcation report and confusion matrix\n",
    "    print(\"Classification report:\\n\", classification_report(actual, prediction))\n",
    "    conf_mat = confusion_matrix(y_true=actual, y_pred=prediction)\n",
    "    print(\"Confusion matrix:\\n\", conf_mat)\n",
    "    plot_confusion_matrix(conf_mat)"
   ]
  },
  {
   "cell_type": "code",
   "execution_count": 10,
   "id": "d35c0ecd",
   "metadata": {},
   "outputs": [],
   "source": [
    "def eval_roc(model, x_test, y_test):\n",
    "    # Predict probabilities\n",
    "    probs = model.predict_proba(x_test)\n",
    "    # Print the ROC curve\n",
    "    print('ROC Score:')\n",
    "    print(roc_auc_score(y_test, probs[:,1]))"
   ]
  },
  {
   "cell_type": "code",
   "execution_count": 11,
   "id": "070ec7d0",
   "metadata": {},
   "outputs": [
    {
     "name": "stderr",
     "output_type": "stream",
     "text": [
      "/opt/anaconda3/envs/ccfd/lib/python3.8/site-packages/sklearn/linear_model/_sag.py:329: ConvergenceWarning: The max_iter was reached which means the coef_ did not converge\n",
      "  warnings.warn(\"The max_iter was reached which means \"\n"
     ]
    },
    {
     "name": "stdout",
     "output_type": "stream",
     "text": [
      "the Model used is Logistic Regression\n",
      "The accuracy is 0.9754924335521927\n",
      "The precision is 0.06089309878213803\n",
      "The recall is 0.9183673469387755\n",
      "The F1-Score is 0.11421319796954316\n",
      "The Matthews correlation coefficient is 0.23303860373483\n",
      "Classification report:\n",
      "               precision    recall  f1-score   support\n",
      "\n",
      "           0       1.00      0.98      0.99     85296\n",
      "           1       0.06      0.92      0.11       147\n",
      "\n",
      "    accuracy                           0.98     85443\n",
      "   macro avg       0.53      0.95      0.55     85443\n",
      "weighted avg       1.00      0.98      0.99     85443\n",
      "\n",
      "Confusion matrix:\n",
      " [[83214  2082]\n",
      " [   12   135]]\n",
      "Confusion matrix, without normalization\n"
     ]
    },
    {
     "data": {
      "image/png": "[encoded data removed]",
      "text/plain": [
       "<Figure size 432x288 with 2 Axes>"
      ]
     },
     "metadata": {
      "needs_background": "light"
     },
     "output_type": "display_data"
    },
    {
     "name": "stdout",
     "output_type": "stream",
     "text": [
      "ROC Score:\n",
      "0.9838237184763232\n"
     ]
    }
   ],
   "source": [
    "# Logistic Regression\n",
    "# Fit a logistic regression model to resampled data\n",
    "lr = LogisticRegression(solver='sag')\n",
    "lr.fit(X_resampled_train, Y_resampled_train)\n",
    "# Obtain model predictions\n",
    "lr_predicted = lr.predict(X_test)\n",
    "evaluate(\"Logistic Regression\", Y_test, lr_predicted)\n",
    "# ROC score of logistic regression\n",
    "eval_roc(lr, X_test, Y_test)"
   ]
  },
  {
   "cell_type": "code",
   "execution_count": null,
   "id": "1e42e471",
   "metadata": {},
   "outputs": [],
   "source": [
    "# Support Vector Machine\n",
    "# Fit a Support Vector Machine to resampled data\n",
    "svc = SVC(kernel='linear')\n",
    "svc.fit(X_resampled_train, Y_resampled_train)\n",
    "# Obtain model predictions\n",
    "svc_predicted = svc.predict(X_test)\n",
    "evaluate(\"Support Vector Machine\", Y_test, svc_predicted)\n",
    "# ROC score of logistic regression\n",
    "eval_roc(svc, X_test, Y_test)"
   ]
  },
  {
   "cell_type": "code",
   "execution_count": 12,
   "id": "2cc43884",
   "metadata": {},
   "outputs": [
    {
     "name": "stdout",
     "output_type": "stream",
     "text": [
      "the Model used is Random Forest\n",
      "The accuracy is 0.9995318516437859\n",
      "The precision is 0.9083969465648855\n",
      "The recall is 0.8095238095238095\n",
      "The F1-Score is 0.856115107913669\n",
      "The Matthews correlation coefficient is 0.8573071283161536\n",
      "Classification report:\n",
      "               precision    recall  f1-score   support\n",
      "\n",
      "           0       1.00      1.00      1.00     85296\n",
      "           1       0.91      0.81      0.86       147\n",
      "\n",
      "    accuracy                           1.00     85443\n",
      "   macro avg       0.95      0.90      0.93     85443\n",
      "weighted avg       1.00      1.00      1.00     85443\n",
      "\n",
      "Confusion matrix:\n",
      " [[85284    12]\n",
      " [   28   119]]\n",
      "Confusion matrix, without normalization\n"
     ]
    },
    {
     "data": {
      "image/png": "[encoded data removed]",
      "text/plain": [
       "<Figure size 432x288 with 2 Axes>"
      ]
     },
     "metadata": {
      "needs_background": "light"
     },
     "output_type": "display_data"
    },
    {
     "name": "stdout",
     "output_type": "stream",
     "text": [
      "ROC Score:\n",
      "0.9639869547518877\n"
     ]
    }
   ],
   "source": [
    "# Random Forest\n",
    "# Define the model as the random forest\n",
    "rf = RandomForestClassifier(random_state=0)\n",
    "rf.fit(X_resampled_train,Y_resampled_train)\n",
    "# Obtain model predictions\n",
    "rf_predicted = rf.predict(X_test)\n",
    "evaluate(\"Random Forest\", Y_test, rf_predicted)\n",
    "# ROC score of Random Forest\n",
    "eval_roc(rf, X_test, Y_test)"
   ]
  },
  {
   "cell_type": "code",
   "execution_count": 13,
   "id": "e41bf20c",
   "metadata": {},
   "outputs": [
    {
     "name": "stdout",
     "output_type": "stream",
     "text": [
      "the Model used is Artificial Neural Network\n",
      "The accuracy is 0.9993211848834895\n",
      "The precision is 0.7986577181208053\n",
      "The recall is 0.8095238095238095\n",
      "The F1-Score is 0.8040540540540542\n",
      "The Matthews correlation coefficient is 0.8037324837579382\n",
      "Classification report:\n",
      "               precision    recall  f1-score   support\n",
      "\n",
      "           0       1.00      1.00      1.00     85296\n",
      "           1       0.80      0.81      0.80       147\n",
      "\n",
      "    accuracy                           1.00     85443\n",
      "   macro avg       0.90      0.90      0.90     85443\n",
      "weighted avg       1.00      1.00      1.00     85443\n",
      "\n",
      "Confusion matrix:\n",
      " [[85266    30]\n",
      " [   28   119]]\n",
      "Confusion matrix, without normalization\n"
     ]
    },
    {
     "data": {
      "image/png": "[encoded data removed]",
      "text/plain": [
       "<Figure size 432x288 with 2 Axes>"
      ]
     },
     "metadata": {
      "needs_background": "light"
     },
     "output_type": "display_data"
    },
    {
     "name": "stdout",
     "output_type": "stream",
     "text": [
      "ROC Score:\n",
      "0.9631354980559096\n"
     ]
    }
   ],
   "source": [
    "# Artificial Neural Network\n",
    "# Define the model as ANN with only 1 hidden layer\n",
    "ann = MLPClassifier(random_state=0, hidden_layer_sizes=(100,))\n",
    "ann.fit(X_resampled_train,Y_resampled_train)\n",
    "# predictions\n",
    "ann_predicted = ann.predict(X_test)\n",
    "evaluate(\"Artificial Neural Network\", Y_test, ann_predicted)\n",
    "# ROC score of ANN\n",
    "eval_roc(ann, X_test, Y_test)"
   ]
  },
  {
   "cell_type": "code",
   "execution_count": 14,
   "id": "efd61ea2",
   "metadata": {},
   "outputs": [
    {
     "name": "stdout",
     "output_type": "stream",
     "text": [
      "the Model used is Artificial Neural Network\n",
      "The accuracy is 0.9992626663389628\n",
      "The precision is 0.78\n",
      "The recall is 0.7959183673469388\n",
      "The F1-Score is 0.7878787878787878\n",
      "The Matthews correlation coefficient is 0.7875498349881227\n",
      "Classification report:\n",
      "               precision    recall  f1-score   support\n",
      "\n",
      "           0       1.00      1.00      1.00     85296\n",
      "           1       0.78      0.80      0.79       147\n",
      "\n",
      "    accuracy                           1.00     85443\n",
      "   macro avg       0.89      0.90      0.89     85443\n",
      "weighted avg       1.00      1.00      1.00     85443\n",
      "\n",
      "Confusion matrix:\n",
      " [[85263    33]\n",
      " [   30   117]]\n",
      "Confusion matrix, without normalization\n"
     ]
    },
    {
     "data": {
      "image/png": "[encoded data removed]",
      "text/plain": [
       "<Figure size 432x288 with 2 Axes>"
      ]
     },
     "metadata": {
      "needs_background": "light"
     },
     "output_type": "display_data"
    },
    {
     "name": "stdout",
     "output_type": "stream",
     "text": [
      "ROC Score:\n",
      "0.9551811251606253\n"
     ]
    }
   ],
   "source": [
    "# Artificial Neural Network\n",
    "# Define the model as ANN with 2 or more hidden layer\n",
    "ann = MLPClassifier(random_state=0, hidden_layer_sizes=(100, 100))\n",
    "ann.fit(X_resampled_train,Y_resampled_train)\n",
    "# predictions\n",
    "ann_predicted = ann.predict(X_test)\n",
    "evaluate(\"Artificial Neural Network\", Y_test, ann_predicted)\n",
    "# ROC score of ANN\n",
    "eval_roc(ann, X_test, Y_test)"
   ]
  },
  {
   "cell_type": "code",
   "execution_count": 22,
   "id": "8b37872f",
   "metadata": {},
   "outputs": [],
   "source": [
    "def tune_ann(hidden_layers, activations, solvers, learning_rates, learning_rate_inits):\n",
    "    best_h = None\n",
    "    best_a = None\n",
    "    best_s = None\n",
    "    best_lr = None\n",
    "    best_lri = None\n",
    "    best_recall = 0\n",
    "    best_accuracy = 0\n",
    "    best_predicted = None\n",
    "    for h in hidden_layers:\n",
    "        for a in activations:\n",
    "            for s in solvers:\n",
    "                for lr in learning_rates:\n",
    "                    for lri in learning_rate_inits:\n",
    "                        model = MLPClassifier(random_state=0, hidden_layer_sizes=h, activation=a, solver=s,\n",
    "                                              learning_rate=lr, learning_rate_init=lri)\n",
    "                        model.fit(X_resampled_train,Y_resampled_train)\n",
    "                        model_predicted = model.predict(X_test)\n",
    "                        rec = recall_score(Y_test, model_predicted)\n",
    "                        acc = accuracy_score(Y_test, model_predicted)\n",
    "                        if rec > best_recall:\n",
    "                            best_h = h\n",
    "                            best_a = a\n",
    "                            best_s = s\n",
    "                            best_lr = lr\n",
    "                            best_lri = lri\n",
    "                            best_recall = rec\n",
    "                            best_accuracy = acc\n",
    "                            best_predicted = model_predicted\n",
    "                        elif rec == best_recall and acc > best_accuracy:\n",
    "                            best_h = h\n",
    "                            best_a = a\n",
    "                            best_s = s\n",
    "                            best_lr = lr\n",
    "                            best_lri = lri\n",
    "                            best_recall = rec\n",
    "                            best_accuracy = acc\n",
    "                            best_predicted = model_predicted\n",
    "    print(\"Best hidden layer:\", best_h)\n",
    "    print(\"Best activation:\", best_a)\n",
    "    print(\"Best solver:\", best_s)\n",
    "    print(\"Best learning_rate:\", best_lr)\n",
    "    print(\"Best learning_rate_init:\", best_lri)\n",
    "    print(\"Corresponding Recall:\", best_recall)\n",
    "    print(\"Corresponding Accuracy:\", best_accuracy)\n",
    "    conf_mat = confusion_matrix(y_true=Y_test, y_pred=best_predicted)\n",
    "    print(\"Confusion matrix:\\n\", conf_mat)\n",
    "    plot_confusion_matrix(conf_mat)"
   ]
  },
  {
   "cell_type": "code",
   "execution_count": null,
   "id": "17ecbf9b",
   "metadata": {},
   "outputs": [],
   "source": [
    "# Tune ANN: "
   ]
  },
  {
   "cell_type": "code",
   "execution_count": null,
   "id": "12a13c06",
   "metadata": {},
   "outputs": [],
   "source": [
    "# current best param: (250,)"
   ]
  },
  {
   "cell_type": "code",
   "execution_count": null,
   "id": "997ef100",
   "metadata": {},
   "outputs": [],
   "source": [
    "# params tried: \n",
    "# hidden_layers: (100,), (200,), (250,), (100, 100), (100, 200), (200, 100), (200, 200), (300,), (100, 100, 100), \n"
   ]
  },
  {
   "cell_type": "code",
   "execution_count": 23,
   "id": "ed73e433",
   "metadata": {},
   "outputs": [
    {
     "name": "stdout",
     "output_type": "stream",
     "text": [
      "Best hidden layer: (250,)\n",
      "Best activation: relu\n",
      "Best solver: sgd\n",
      "Best learning_rate: constant\n",
      "Best learning_rate_init: 0.001\n",
      "Corresponding Recall: 0.8367346938775511\n",
      "Corresponding Accuracy: 0.9970155542291352\n",
      "Confusion matrix:\n",
      " [[85065   231]\n",
      " [   24   123]]\n",
      "Confusion matrix, without normalization\n"
     ]
    },
    {
     "data": {
      "image/png": "[encoded data removed]",
      "text/plain": [
       "<Figure size 432x288 with 2 Axes>"
      ]
     },
     "metadata": {
      "needs_background": "light"
     },
     "output_type": "display_data"
    }
   ],
   "source": [
    "tune_ann(hidden_layers=[(250,)], \n",
    "         activations=['relu'], \n",
    "         solvers=['adam', 'sgd'], \n",
    "         learning_rates=['constant'], \n",
    "         learning_rate_inits=[0.001])"
   ]
  },
  {
   "cell_type": "code",
   "execution_count": null,
   "id": "f563c9f2",
   "metadata": {},
   "outputs": [],
   "source": []
  }
 ],
 "metadata": {
  "kernelspec": {
   "display_name": "Python 3",
   "language": "python",
   "name": "python3"
  },
  "language_info": {
   "codemirror_mode": {
    "name": "ipython",
    "version": 3
   },
   "file_extension": ".py",
   "mimetype": "text/x-python",
   "name": "python",
   "nbconvert_exporter": "python",
   "pygments_lexer": "ipython3",
   "version": "3.8.2"
  }
 },
 "nbformat": 4,
 "nbformat_minor": 5
}
